{
 "cells": [
  {
   "cell_type": "code",
   "execution_count": 5,
   "metadata": {},
   "outputs": [
    {
     "data": {
      "text/plain": [
       "'1.0.5'"
      ]
     },
     "execution_count": 5,
     "metadata": {},
     "output_type": "execute_result"
    }
   ],
   "source": [
    "import fastai\n",
    "\n",
    "fastai.__version__"
   ]
  },
  {
   "cell_type": "code",
   "execution_count": 8,
   "metadata": {},
   "outputs": [
    {
     "name": "stdout",
     "output_type": "stream",
     "text": [
      "fastai\tsetup.ipynb  tutorials\n"
     ]
    }
   ],
   "source": [
    "!ls"
   ]
  },
  {
   "cell_type": "code",
   "execution_count": 11,
   "metadata": {},
   "outputs": [
    {
     "name": "stdout",
     "output_type": "stream",
     "text": [
      "Already up-to-date.\n"
     ]
    }
   ],
   "source": [
    "%%bash\n",
    "if [ ! -d fastai ] ; then\n",
    "    git clone https://github.com/fastai/fastai \n",
    "fi\n",
    "\n",
    "cd fastai\n",
    "git pull\n",
    "cd ..\n",
    "\n",
    "if [ ! -d data ] ; then\n",
    "    mkdir data\n",
    "    cd data\n",
    "    wget http://files.fast.ai/data/dogscats.zip\n",
    "    unzip -q dogscats.zip\n",
    "    cd ../fastai/courses/dl1/\n",
    "    ln -s ~/data ./\n",
    "fi\n"
   ]
  },
  {
   "cell_type": "code",
   "execution_count": 12,
   "metadata": {},
   "outputs": [
    {
     "name": "stdout",
     "output_type": "stream",
     "text": [
      "Requirement already satisfied: graphviz in ./.local/lib/python3.6/site-packages (0.9)\n",
      "Requirement already satisfied: isoweek in ./.local/lib/python3.6/site-packages (1.3.3)\n",
      "Requirement already satisfied: sklearn_pandas in ./.local/lib/python3.6/site-packages (1.7.0)\n",
      "Requirement already satisfied: pandas_summary in ./.local/lib/python3.6/site-packages (0.0.5)\n",
      "Requirement already satisfied: tqdm in ./.local/lib/python3.6/site-packages (4.26.0)\n",
      "Requirement already satisfied: torchtext in ./.local/lib/python3.6/site-packages (0.3.1)\n",
      "Requirement already satisfied: torchvision-nightly in ./.local/lib/python3.6/site-packages (0.2.1)\n",
      "Requirement already satisfied: msgpack in ./.local/lib/python3.6/site-packages (0.5.6)\n",
      "Requirement already satisfied: ipywidgets in /opt/anaconda3/lib/python3.6/site-packages (7.4.2)\n",
      "Requirement already satisfied: pandas>=0.11.0 in /opt/anaconda3/lib/python3.6/site-packages (from sklearn_pandas) (0.23.0)\n",
      "Requirement already satisfied: scipy>=0.14 in /opt/anaconda3/lib/python3.6/site-packages (from sklearn_pandas) (1.1.0)\n",
      "Requirement already satisfied: scikit-learn>=0.15.0 in /opt/anaconda3/lib/python3.6/site-packages (from sklearn_pandas) (0.19.1)\n",
      "Requirement already satisfied: numpy>=1.6.1 in /opt/anaconda3/lib/python3.6/site-packages (from sklearn_pandas) (1.14.3)\n",
      "Requirement already satisfied: requests in /opt/anaconda3/lib/python3.6/site-packages (from torchtext) (2.18.4)\n",
      "Requirement already satisfied: torch in /opt/anaconda3/lib/python3.6/site-packages (from torchtext) (1.0.0.dev20181010)\n",
      "Requirement already satisfied: six in /opt/anaconda3/lib/python3.6/site-packages (from torchvision-nightly) (1.11.0)\n",
      "Requirement already satisfied: pillow>=4.1.1 in /opt/anaconda3/lib/python3.6/site-packages (from torchvision-nightly) (5.1.0)\n",
      "Requirement already satisfied: traitlets>=4.3.1 in /opt/anaconda3/lib/python3.6/site-packages (from ipywidgets) (4.3.2)\n",
      "Requirement already satisfied: nbformat>=4.2.0 in /opt/anaconda3/lib/python3.6/site-packages (from ipywidgets) (4.4.0)\n",
      "Requirement already satisfied: ipykernel>=4.5.1 in /opt/anaconda3/lib/python3.6/site-packages (from ipywidgets) (5.1.0)\n",
      "Requirement already satisfied: widgetsnbextension~=3.4.0 in /opt/anaconda3/lib/python3.6/site-packages (from ipywidgets) (3.4.2)\n",
      "Requirement already satisfied: ipython>=4.0.0; python_version >= \"3.3\" in /opt/anaconda3/lib/python3.6/site-packages (from ipywidgets) (7.0.1)\n",
      "Requirement already satisfied: python-dateutil>=2.5.0 in /opt/anaconda3/lib/python3.6/site-packages (from pandas>=0.11.0->sklearn_pandas) (2.7.3)\n",
      "Requirement already satisfied: pytz>=2011k in /opt/anaconda3/lib/python3.6/site-packages (from pandas>=0.11.0->sklearn_pandas) (2018.4)\n",
      "Requirement already satisfied: chardet<3.1.0,>=3.0.2 in /opt/anaconda3/lib/python3.6/site-packages (from requests->torchtext) (3.0.4)\n",
      "Requirement already satisfied: idna<2.7,>=2.5 in /opt/anaconda3/lib/python3.6/site-packages (from requests->torchtext) (2.6)\n",
      "Requirement already satisfied: urllib3<1.23,>=1.21.1 in /opt/anaconda3/lib/python3.6/site-packages (from requests->torchtext) (1.22)\n",
      "Requirement already satisfied: certifi>=2017.4.17 in /opt/anaconda3/lib/python3.6/site-packages (from requests->torchtext) (2018.4.16)\n",
      "Requirement already satisfied: ipython_genutils in /opt/anaconda3/lib/python3.6/site-packages (from traitlets>=4.3.1->ipywidgets) (0.2.0)\n",
      "Requirement already satisfied: decorator in /opt/anaconda3/lib/python3.6/site-packages (from traitlets>=4.3.1->ipywidgets) (4.3.0)\n",
      "Requirement already satisfied: jsonschema!=2.5.0,>=2.4 in /opt/anaconda3/lib/python3.6/site-packages (from nbformat>=4.2.0->ipywidgets) (2.6.0)\n",
      "Requirement already satisfied: jupyter_core in /opt/anaconda3/lib/python3.6/site-packages (from nbformat>=4.2.0->ipywidgets) (4.4.0)\n",
      "Requirement already satisfied: tornado>=4.2 in /opt/anaconda3/lib/python3.6/site-packages (from ipykernel>=4.5.1->ipywidgets) (5.1.1)\n",
      "Requirement already satisfied: jupyter-client in /opt/anaconda3/lib/python3.6/site-packages (from ipykernel>=4.5.1->ipywidgets) (5.2.3)\n",
      "Requirement already satisfied: notebook>=4.4.1 in /opt/anaconda3/lib/python3.6/site-packages (from widgetsnbextension~=3.4.0->ipywidgets) (5.5.0)\n",
      "Requirement already satisfied: prompt-toolkit<2.1.0,>=2.0.0 in /opt/anaconda3/lib/python3.6/site-packages (from ipython>=4.0.0; python_version >= \"3.3\"->ipywidgets) (2.0.5)\n",
      "Requirement already satisfied: simplegeneric>0.8 in /opt/anaconda3/lib/python3.6/site-packages (from ipython>=4.0.0; python_version >= \"3.3\"->ipywidgets) (0.8.1)\n",
      "Requirement already satisfied: pexpect; sys_platform != \"win32\" in /opt/anaconda3/lib/python3.6/site-packages (from ipython>=4.0.0; python_version >= \"3.3\"->ipywidgets) (4.6.0)\n",
      "Requirement already satisfied: backcall in /opt/anaconda3/lib/python3.6/site-packages (from ipython>=4.0.0; python_version >= \"3.3\"->ipywidgets) (0.1.0)\n",
      "Requirement already satisfied: setuptools>=18.5 in /opt/anaconda3/lib/python3.6/site-packages (from ipython>=4.0.0; python_version >= \"3.3\"->ipywidgets) (40.4.3)\n",
      "Requirement already satisfied: jedi>=0.10 in /opt/anaconda3/lib/python3.6/site-packages (from ipython>=4.0.0; python_version >= \"3.3\"->ipywidgets) (0.13.1)\n",
      "Requirement already satisfied: pickleshare in /opt/anaconda3/lib/python3.6/site-packages (from ipython>=4.0.0; python_version >= \"3.3\"->ipywidgets) (0.7.4)\n",
      "Requirement already satisfied: pygments in /opt/anaconda3/lib/python3.6/site-packages (from ipython>=4.0.0; python_version >= \"3.3\"->ipywidgets) (2.2.0)\n",
      "Requirement already satisfied: pyzmq>=13 in /opt/anaconda3/lib/python3.6/site-packages (from jupyter-client->ipykernel>=4.5.1->ipywidgets) (17.0.0)\n",
      "Requirement already satisfied: Send2Trash in /opt/anaconda3/lib/python3.6/site-packages (from notebook>=4.4.1->widgetsnbextension~=3.4.0->ipywidgets) (1.5.0)\n",
      "Requirement already satisfied: terminado>=0.8.1 in /opt/anaconda3/lib/python3.6/site-packages (from notebook>=4.4.1->widgetsnbextension~=3.4.0->ipywidgets) (0.8.1)\n",
      "Requirement already satisfied: jinja2 in /opt/anaconda3/lib/python3.6/site-packages (from notebook>=4.4.1->widgetsnbextension~=3.4.0->ipywidgets) (2.10)\n",
      "Requirement already satisfied: nbconvert in /opt/anaconda3/lib/python3.6/site-packages (from notebook>=4.4.1->widgetsnbextension~=3.4.0->ipywidgets) (5.4.0)\n",
      "Requirement already satisfied: wcwidth in /opt/anaconda3/lib/python3.6/site-packages (from prompt-toolkit<2.1.0,>=2.0.0->ipython>=4.0.0; python_version >= \"3.3\"->ipywidgets) (0.1.7)\n",
      "Requirement already satisfied: ptyprocess>=0.5 in /opt/anaconda3/lib/python3.6/site-packages (from pexpect; sys_platform != \"win32\"->ipython>=4.0.0; python_version >= \"3.3\"->ipywidgets) (0.5.2)\n",
      "Requirement already satisfied: parso>=0.3.0 in /opt/anaconda3/lib/python3.6/site-packages (from jedi>=0.10->ipython>=4.0.0; python_version >= \"3.3\"->ipywidgets) (0.3.1)\n",
      "Requirement already satisfied: MarkupSafe>=0.23 in /opt/anaconda3/lib/python3.6/site-packages (from jinja2->notebook>=4.4.1->widgetsnbextension~=3.4.0->ipywidgets) (1.0)\n",
      "Requirement already satisfied: entrypoints>=0.2.2 in /opt/anaconda3/lib/python3.6/site-packages (from nbconvert->notebook>=4.4.1->widgetsnbextension~=3.4.0->ipywidgets) (0.2.3)\n",
      "Requirement already satisfied: defusedxml in /opt/anaconda3/lib/python3.6/site-packages (from nbconvert->notebook>=4.4.1->widgetsnbextension~=3.4.0->ipywidgets) (0.5.0)\n",
      "Requirement already satisfied: pandocfilters>=1.4.1 in /opt/anaconda3/lib/python3.6/site-packages (from nbconvert->notebook>=4.4.1->widgetsnbextension~=3.4.0->ipywidgets) (1.4.2)\n",
      "Requirement already satisfied: bleach in /opt/anaconda3/lib/python3.6/site-packages (from nbconvert->notebook>=4.4.1->widgetsnbextension~=3.4.0->ipywidgets) (2.1.3)\n",
      "Requirement already satisfied: mistune>=0.8.1 in /opt/anaconda3/lib/python3.6/site-packages (from nbconvert->notebook>=4.4.1->widgetsnbextension~=3.4.0->ipywidgets) (0.8.3)\n",
      "Requirement already satisfied: testpath in /opt/anaconda3/lib/python3.6/site-packages (from nbconvert->notebook>=4.4.1->widgetsnbextension~=3.4.0->ipywidgets) (0.3.1)\n",
      "Requirement already satisfied: html5lib!=1.0b1,!=1.0b2,!=1.0b3,!=1.0b4,!=1.0b5,!=1.0b6,!=1.0b7,!=1.0b8,>=0.99999999pre in /opt/anaconda3/lib/python3.6/site-packages (from bleach->nbconvert->notebook>=4.4.1->widgetsnbextension~=3.4.0->ipywidgets) (1.0.1)\n",
      "Requirement already satisfied: webencodings in /opt/anaconda3/lib/python3.6/site-packages (from html5lib!=1.0b1,!=1.0b2,!=1.0b3,!=1.0b4,!=1.0b5,!=1.0b6,!=1.0b7,!=1.0b8,>=0.99999999pre->bleach->nbconvert->notebook>=4.4.1->widgetsnbextension~=3.4.0->ipywidgets) (0.5.1)\n",
      "\u001b[31mjupyter-console 5.2.0 has requirement prompt_toolkit<2.0.0,>=1.0.0, but you'll have prompt-toolkit 2.0.5 which is incompatible.\u001b[0m\n",
      "\u001b[31mfastai 1.0.5 has requirement fastprogress>=0.1.9, but you'll have fastprogress 0.1.8 which is incompatible.\u001b[0m\n",
      "\u001b[33mYou are using pip version 10.0.1, however version 18.1 is available.\n",
      "You should consider upgrading via the 'pip install --upgrade pip' command.\u001b[0m\n"
     ]
    }
   ],
   "source": [
    "!pip install \\\n",
    "    graphviz\\\n",
    "    isoweek\\\n",
    "    sklearn_pandas\\\n",
    "    pandas_summary\\\n",
    "    tqdm\\\n",
    "    torchtext\\\n",
    "    torchvision-nightly\\\n",
    "    msgpack\\\n",
    "    ipywidgets\\\n",
    "    --user"
   ]
  },
  {
   "cell_type": "code",
   "execution_count": 13,
   "metadata": {},
   "outputs": [
    {
     "name": "stdout",
     "output_type": "stream",
     "text": [
      "\u001b[0m\u001b[01;34mdata\u001b[0m/  \u001b[01;34mfastai\u001b[0m/  setup.ipynb  \u001b[01;34mtutorials\u001b[0m/\n"
     ]
    }
   ],
   "source": [
    "ls"
   ]
  }
 ],
 "metadata": {
  "kernelspec": {
   "display_name": "Python 3",
   "language": "python",
   "name": "python3"
  },
  "language_info": {
   "codemirror_mode": {
    "name": "ipython",
    "version": 3
   },
   "file_extension": ".py",
   "mimetype": "text/x-python",
   "name": "python",
   "nbconvert_exporter": "python",
   "pygments_lexer": "ipython3",
   "version": "3.6.5"
  }
 },
 "nbformat": 4,
 "nbformat_minor": 2
}
